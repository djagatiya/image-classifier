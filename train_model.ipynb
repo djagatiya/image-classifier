{
 "cells": [
  {
   "cell_type": "code",
   "execution_count": 21,
   "id": "8f0cecb6-2e9d-47e7-8e54-ec61d2ef8322",
   "metadata": {},
   "outputs": [],
   "source": [
    "import numpy as np\n",
    "import pandas as pd\n",
    "\n",
    "import matplotlib.pyplot as plt\n",
    "plt.style.use(\"dark_background\")\n",
    "\n",
    "import seaborn as sns\n",
    "\n",
    "import cv2\n",
    "\n",
    "import torch\n",
    "\n",
    "assert torch.__version__.startswith(\"1.12.1\")\n",
    "assert pd.__version__ == \"1.3.5\"\n",
    "assert cv2.__version__ == \"4.5.5\""
   ]
  },
  {
   "cell_type": "code",
   "execution_count": 22,
   "id": "931a06fd-bec0-4ba0-b3c0-3de0cd3883d4",
   "metadata": {},
   "outputs": [],
   "source": [
    "train_df = pd.read_csv(\"dataset/train.csv\")"
   ]
  },
  {
   "cell_type": "code",
   "execution_count": 23,
   "id": "488aa8f4-1e21-4bbc-9bdf-02aebc401e02",
   "metadata": {},
   "outputs": [
    {
     "data": {
      "text/html": [
       "<div>\n",
       "<style scoped>\n",
       "    .dataframe tbody tr th:only-of-type {\n",
       "        vertical-align: middle;\n",
       "    }\n",
       "\n",
       "    .dataframe tbody tr th {\n",
       "        vertical-align: top;\n",
       "    }\n",
       "\n",
       "    .dataframe thead th {\n",
       "        text-align: right;\n",
       "    }\n",
       "</style>\n",
       "<table border=\"1\" class=\"dataframe\">\n",
       "  <thead>\n",
       "    <tr style=\"text-align: right;\">\n",
       "      <th></th>\n",
       "      <th>category_name</th>\n",
       "      <th>file_path</th>\n",
       "    </tr>\n",
       "  </thead>\n",
       "  <tbody>\n",
       "    <tr>\n",
       "      <th>0</th>\n",
       "      <td>077.french-horn</td>\n",
       "      <td>256_ObjectCategories/077.french-horn/077_0020.jpg</td>\n",
       "    </tr>\n",
       "    <tr>\n",
       "      <th>1</th>\n",
       "      <td>257.clutter</td>\n",
       "      <td>256_ObjectCategories/257.clutter/257_0747.jpg</td>\n",
       "    </tr>\n",
       "    <tr>\n",
       "      <th>2</th>\n",
       "      <td>003.backpack</td>\n",
       "      <td>256_ObjectCategories/003.backpack/003_0119.jpg</td>\n",
       "    </tr>\n",
       "    <tr>\n",
       "      <th>3</th>\n",
       "      <td>121.kangaroo-101</td>\n",
       "      <td>256_ObjectCategories/121.kangaroo-101/121_0073...</td>\n",
       "    </tr>\n",
       "    <tr>\n",
       "      <th>4</th>\n",
       "      <td>134.llama-101</td>\n",
       "      <td>256_ObjectCategories/134.llama-101/134_0053.jpg</td>\n",
       "    </tr>\n",
       "    <tr>\n",
       "      <th>...</th>\n",
       "      <td>...</td>\n",
       "      <td>...</td>\n",
       "    </tr>\n",
       "    <tr>\n",
       "      <th>19583</th>\n",
       "      <td>159.people</td>\n",
       "      <td>256_ObjectCategories/159.people/159_0162.jpg</td>\n",
       "    </tr>\n",
       "    <tr>\n",
       "      <th>19584</th>\n",
       "      <td>257.clutter</td>\n",
       "      <td>256_ObjectCategories/257.clutter/257_0089.jpg</td>\n",
       "    </tr>\n",
       "    <tr>\n",
       "      <th>19585</th>\n",
       "      <td>048.conch</td>\n",
       "      <td>256_ObjectCategories/048.conch/048_0046.jpg</td>\n",
       "    </tr>\n",
       "    <tr>\n",
       "      <th>19586</th>\n",
       "      <td>159.people</td>\n",
       "      <td>256_ObjectCategories/159.people/159_0145.jpg</td>\n",
       "    </tr>\n",
       "    <tr>\n",
       "      <th>19587</th>\n",
       "      <td>028.camel</td>\n",
       "      <td>256_ObjectCategories/028.camel/028_0006.jpg</td>\n",
       "    </tr>\n",
       "  </tbody>\n",
       "</table>\n",
       "<p>19588 rows × 2 columns</p>\n",
       "</div>"
      ],
      "text/plain": [
       "          category_name                                          file_path\n",
       "0       077.french-horn  256_ObjectCategories/077.french-horn/077_0020.jpg\n",
       "1           257.clutter      256_ObjectCategories/257.clutter/257_0747.jpg\n",
       "2          003.backpack     256_ObjectCategories/003.backpack/003_0119.jpg\n",
       "3      121.kangaroo-101  256_ObjectCategories/121.kangaroo-101/121_0073...\n",
       "4         134.llama-101    256_ObjectCategories/134.llama-101/134_0053.jpg\n",
       "...                 ...                                                ...\n",
       "19583        159.people       256_ObjectCategories/159.people/159_0162.jpg\n",
       "19584       257.clutter      256_ObjectCategories/257.clutter/257_0089.jpg\n",
       "19585         048.conch        256_ObjectCategories/048.conch/048_0046.jpg\n",
       "19586        159.people       256_ObjectCategories/159.people/159_0145.jpg\n",
       "19587         028.camel        256_ObjectCategories/028.camel/028_0006.jpg\n",
       "\n",
       "[19588 rows x 2 columns]"
      ]
     },
     "execution_count": 23,
     "metadata": {},
     "output_type": "execute_result"
    }
   ],
   "source": [
    "train_df"
   ]
  },
  {
   "cell_type": "code",
   "execution_count": null,
   "id": "652a6afd-29ff-495b-b809-6e2dc7dd3f52",
   "metadata": {},
   "outputs": [
    {
     "data": {
      "text/html": [
       "<div>\n",
       "<style scoped>\n",
       "    .dataframe tbody tr th:only-of-type {\n",
       "        vertical-align: middle;\n",
       "    }\n",
       "\n",
       "    .dataframe tbody tr th {\n",
       "        vertical-align: top;\n",
       "    }\n",
       "\n",
       "    .dataframe thead th {\n",
       "        text-align: right;\n",
       "    }\n",
       "</style>\n",
       "<table border=\"1\" class=\"dataframe\">\n",
       "  <thead>\n",
       "    <tr style=\"text-align: right;\">\n",
       "      <th></th>\n",
       "      <th>category_name</th>\n",
       "    </tr>\n",
       "  </thead>\n",
       "  <tbody>\n",
       "    <tr>\n",
       "      <th>257.clutter</th>\n",
       "      <td>529</td>\n",
       "    </tr>\n",
       "    <tr>\n",
       "      <th>251.airplanes-101</th>\n",
       "      <td>512</td>\n",
       "    </tr>\n",
       "    <tr>\n",
       "      <th>145.motorbikes-101</th>\n",
       "      <td>510</td>\n",
       "    </tr>\n",
       "    <tr>\n",
       "      <th>253.faces-easy-101</th>\n",
       "      <td>278</td>\n",
       "    </tr>\n",
       "    <tr>\n",
       "      <th>232.t-shirt</th>\n",
       "      <td>229</td>\n",
       "    </tr>\n",
       "    <tr>\n",
       "      <th>...</th>\n",
       "      <td>...</td>\n",
       "    </tr>\n",
       "    <tr>\n",
       "      <th>204.sunflower-101</th>\n",
       "      <td>51</td>\n",
       "    </tr>\n",
       "    <tr>\n",
       "      <th>099.harpsichord</th>\n",
       "      <td>51</td>\n",
       "    </tr>\n",
       "    <tr>\n",
       "      <th>223.top-hat</th>\n",
       "      <td>51</td>\n",
       "    </tr>\n",
       "    <tr>\n",
       "      <th>179.scorpion-101</th>\n",
       "      <td>51</td>\n",
       "    </tr>\n",
       "    <tr>\n",
       "      <th>086.golden-gate-bridge</th>\n",
       "      <td>51</td>\n",
       "    </tr>\n",
       "  </tbody>\n",
       "</table>\n",
       "<p>257 rows × 1 columns</p>\n",
       "</div>"
      ],
      "text/plain": [
       "                        category_name\n",
       "257.clutter                       529\n",
       "251.airplanes-101                 512\n",
       "145.motorbikes-101                510\n",
       "253.faces-easy-101                278\n",
       "232.t-shirt                       229\n",
       "...                               ...\n",
       "204.sunflower-101                  51\n",
       "099.harpsichord                    51\n",
       "223.top-hat                        51\n",
       "179.scorpion-101                   51\n",
       "086.golden-gate-bridge             51\n",
       "\n",
       "[257 rows x 1 columns]"
      ]
     },
     "execution_count": 33,
     "metadata": {},
     "output_type": "execute_result"
    }
   ],
   "source": [
    "train_category_count = train_df.category_name.value_counts().to_frame()\n",
    "train_category_count"
   ]
  },
  {
   "cell_type": "code",
   "execution_count": 54,
   "id": "e35e9a03-d750-4320-ba3b-0fe0f1193aa5",
   "metadata": {},
   "outputs": [
    {
     "data": {
      "image/png": "[encoded data removed]",
      "text/plain": [
       "<Figure size 640x480 with 1 Axes>"
      ]
     },
     "metadata": {},
     "output_type": "display_data"
    }
   ],
   "source": [
    "ax = sns.histplot(train_category_count, x=\"category_name\")\n",
    "ax.set_xticks(range(1,600,50))\n",
    "plt.show()"
   ]
  },
  {
   "cell_type": "markdown",
   "id": "aa695a28-cb51-4cf8-9b46-65ced2e24aae",
   "metadata": {},
   "source": [
    "Every category has minimum 50 images"
   ]
  },
  {
   "cell_type": "code",
   "execution_count": null,
   "id": "78b1a185-192f-4b31-9f5b-9d39c35311d3",
   "metadata": {},
   "outputs": [],
   "source": []
  }
 ],
 "metadata": {
  "kernelspec": {
   "display_name": "Python 3 (ipykernel) (Local)",
   "language": "python",
   "name": "local-python3"
  },
  "language_info": {
   "codemirror_mode": {
    "name": "ipython",
    "version": 3
   },
   "file_extension": ".py",
   "mimetype": "text/x-python",
   "name": "python",
   "nbconvert_exporter": "python",
   "pygments_lexer": "ipython3",
   "version": "3.7.12"
  }
 },
 "nbformat": 4,
 "nbformat_minor": 5
}
