{
 "cells": [
  {
   "cell_type": "markdown",
   "id": "52ada70c-2c12-46db-9609-f034f6bf66ca",
   "metadata": {
    "tags": []
   },
   "source": [
    "# Download Dataset"
   ]
  },
  {
   "cell_type": "code",
   "execution_count": null,
   "id": "6397aa6a-1865-4fff-9823-9790a5d8cb85",
   "metadata": {},
   "outputs": [],
   "source": [
    "# https://data.caltech.edu/records/nyy15-4j048\n",
    "!wget https://data.caltech.edu/records/nyy15-4j048/files/256_ObjectCategories.tar"
   ]
  },
  {
   "cell_type": "code",
   "execution_count": null,
   "id": "46672f38-6cde-49d8-bf20-132d01e5d1a9",
   "metadata": {},
   "outputs": [],
   "source": [
    "!tar -xvf 256_ObjectCategories.tar"
   ]
  },
  {
   "cell_type": "markdown",
   "id": "d47d4b30-b4ab-491d-a049-5f042d5e41be",
   "metadata": {},
   "source": [
    "# Data Preparation"
   ]
  },
  {
   "cell_type": "code",
   "execution_count": 55,
   "id": "3143e247-5260-42c2-b4db-98c1534b28ec",
   "metadata": {},
   "outputs": [],
   "source": [
    "import os\n",
    "import glob\n",
    "from pathlib import Path\n",
    "import pandas as pd"
   ]
  },
  {
   "cell_type": "code",
   "execution_count": 56,
   "id": "13e8f781-5dff-4e5a-80fd-61d4fe7e39cc",
   "metadata": {},
   "outputs": [],
   "source": [
    "ROOT_DIR = \"256_ObjectCategories\""
   ]
  },
  {
   "cell_type": "markdown",
   "id": "da59a6e7-0be0-4f07-ba14-6d26ce5d5c1a",
   "metadata": {},
   "source": [
    "Previosly I faced problem with result reproducing due to the order of file was changed every time.\n",
    "\n",
    "So now we are sorting directory and files as well."
   ]
  },
  {
   "cell_type": "code",
   "execution_count": 57,
   "id": "107ab2e4-52c3-4ff0-903a-000b0bcc5a41",
   "metadata": {},
   "outputs": [],
   "source": [
    "def get_file_number_for_sort(path):\n",
    "    dir_name = Path(path).stem\n",
    "    return int(dir_name[dir_name.index(\"_\")+1:])"
   ]
  },
  {
   "cell_type": "code",
   "execution_count": 58,
   "id": "89fcfde0-ab48-43fa-9a1f-48fcadbed342",
   "metadata": {},
   "outputs": [
    {
     "name": "stdout",
     "output_type": "stream",
     "text": [
      "[NOTE]: It will print first 5 logs for senity check.\n",
      "Category Name: 001.ak47 , Total file: 98\n",
      "Category Name: 002.american-flag , Total file: 97\n",
      "Category Name: 003.backpack , Total file: 151\n",
      "Category Name: 004.baseball-bat , Total file: 127\n",
      "Category Name: 005.baseball-glove , Total file: 148\n",
      "Total Records: 30607\n"
     ]
    }
   ],
   "source": [
    "dataset_records = []\n",
    "\n",
    "print(\"[NOTE]: It will print first 5 logs for senity check.\")\n",
    "\n",
    "dir_ls = os.listdir(ROOT_DIR)\n",
    "dir_ls.sort(key=lambda x: int(x[:x.index(\".\")]))\n",
    "\n",
    "for i, category_name in enumerate(dir_ls):\n",
    "    \n",
    "    file_paths = glob.glob(ROOT_DIR + \"/\" + category_name + \"/*.*\")\n",
    "    file_paths.sort(key=lambda x: get_file_number_for_sort(x))\n",
    "    \n",
    "    if i < 5:\n",
    "        print(\"Category Name:\", category_name, \", Total file:\", len(file_paths))\n",
    "    \n",
    "    for file_path in file_paths:\n",
    "        dataset_records.append({\n",
    "            \"category_name\" : category_name,\n",
    "            \"file_path\" : file_path\n",
    "        })\n",
    "        \n",
    "print(\"Total Records:\", len(dataset_records))"
   ]
  },
  {
   "cell_type": "code",
   "execution_count": 59,
   "id": "768bb450-a854-4e26-9016-0461bed8596c",
   "metadata": {},
   "outputs": [],
   "source": [
    "df = pd.DataFrame(dataset_records)"
   ]
  },
  {
   "cell_type": "code",
   "execution_count": 60,
   "id": "c9969aeb-4691-407e-ae8e-26b2624d3aaa",
   "metadata": {},
   "outputs": [
    {
     "data": {
      "text/html": [
       "<div>\n",
       "<style scoped>\n",
       "    .dataframe tbody tr th:only-of-type {\n",
       "        vertical-align: middle;\n",
       "    }\n",
       "\n",
       "    .dataframe tbody tr th {\n",
       "        vertical-align: top;\n",
       "    }\n",
       "\n",
       "    .dataframe thead th {\n",
       "        text-align: right;\n",
       "    }\n",
       "</style>\n",
       "<table border=\"1\" class=\"dataframe\">\n",
       "  <thead>\n",
       "    <tr style=\"text-align: right;\">\n",
       "      <th></th>\n",
       "      <th>category_name</th>\n",
       "      <th>file_path</th>\n",
       "    </tr>\n",
       "  </thead>\n",
       "  <tbody>\n",
       "    <tr>\n",
       "      <th>0</th>\n",
       "      <td>001.ak47</td>\n",
       "      <td>256_ObjectCategories/001.ak47/001_0001.jpg</td>\n",
       "    </tr>\n",
       "    <tr>\n",
       "      <th>1</th>\n",
       "      <td>001.ak47</td>\n",
       "      <td>256_ObjectCategories/001.ak47/001_0002.jpg</td>\n",
       "    </tr>\n",
       "    <tr>\n",
       "      <th>2</th>\n",
       "      <td>001.ak47</td>\n",
       "      <td>256_ObjectCategories/001.ak47/001_0003.jpg</td>\n",
       "    </tr>\n",
       "    <tr>\n",
       "      <th>3</th>\n",
       "      <td>001.ak47</td>\n",
       "      <td>256_ObjectCategories/001.ak47/001_0004.jpg</td>\n",
       "    </tr>\n",
       "    <tr>\n",
       "      <th>4</th>\n",
       "      <td>001.ak47</td>\n",
       "      <td>256_ObjectCategories/001.ak47/001_0005.jpg</td>\n",
       "    </tr>\n",
       "    <tr>\n",
       "      <th>...</th>\n",
       "      <td>...</td>\n",
       "      <td>...</td>\n",
       "    </tr>\n",
       "    <tr>\n",
       "      <th>30602</th>\n",
       "      <td>257.clutter</td>\n",
       "      <td>256_ObjectCategories/257.clutter/257_0823.jpg</td>\n",
       "    </tr>\n",
       "    <tr>\n",
       "      <th>30603</th>\n",
       "      <td>257.clutter</td>\n",
       "      <td>256_ObjectCategories/257.clutter/257_0824.jpg</td>\n",
       "    </tr>\n",
       "    <tr>\n",
       "      <th>30604</th>\n",
       "      <td>257.clutter</td>\n",
       "      <td>256_ObjectCategories/257.clutter/257_0825.jpg</td>\n",
       "    </tr>\n",
       "    <tr>\n",
       "      <th>30605</th>\n",
       "      <td>257.clutter</td>\n",
       "      <td>256_ObjectCategories/257.clutter/257_0826.jpg</td>\n",
       "    </tr>\n",
       "    <tr>\n",
       "      <th>30606</th>\n",
       "      <td>257.clutter</td>\n",
       "      <td>256_ObjectCategories/257.clutter/257_0827.jpg</td>\n",
       "    </tr>\n",
       "  </tbody>\n",
       "</table>\n",
       "<p>30607 rows × 2 columns</p>\n",
       "</div>"
      ],
      "text/plain": [
       "      category_name                                      file_path\n",
       "0          001.ak47     256_ObjectCategories/001.ak47/001_0001.jpg\n",
       "1          001.ak47     256_ObjectCategories/001.ak47/001_0002.jpg\n",
       "2          001.ak47     256_ObjectCategories/001.ak47/001_0003.jpg\n",
       "3          001.ak47     256_ObjectCategories/001.ak47/001_0004.jpg\n",
       "4          001.ak47     256_ObjectCategories/001.ak47/001_0005.jpg\n",
       "...             ...                                            ...\n",
       "30602   257.clutter  256_ObjectCategories/257.clutter/257_0823.jpg\n",
       "30603   257.clutter  256_ObjectCategories/257.clutter/257_0824.jpg\n",
       "30604   257.clutter  256_ObjectCategories/257.clutter/257_0825.jpg\n",
       "30605   257.clutter  256_ObjectCategories/257.clutter/257_0826.jpg\n",
       "30606   257.clutter  256_ObjectCategories/257.clutter/257_0827.jpg\n",
       "\n",
       "[30607 rows x 2 columns]"
      ]
     },
     "execution_count": 60,
     "metadata": {},
     "output_type": "execute_result"
    }
   ],
   "source": [
    "df"
   ]
  },
  {
   "cell_type": "markdown",
   "id": "010f2902-28a8-426e-8865-8cc5aad609fc",
   "metadata": {},
   "source": [
    "## Train/Test split"
   ]
  },
  {
   "cell_type": "code",
   "execution_count": 61,
   "id": "2dd7477d-a939-45d0-9c57-49945902787e",
   "metadata": {},
   "outputs": [],
   "source": [
    "from sklearn.model_selection import train_test_split"
   ]
  },
  {
   "cell_type": "code",
   "execution_count": 68,
   "id": "bf490e34-2960-49a6-b858-d886ff957789",
   "metadata": {},
   "outputs": [
    {
     "data": {
      "text/plain": [
       "((24485, 2), (6122, 2))"
      ]
     },
     "execution_count": 68,
     "metadata": {},
     "output_type": "execute_result"
    }
   ],
   "source": [
    "train_df, test_df = train_test_split(df, stratify=df.category_name, test_size=0.20, random_state=1)\n",
    "train_df.shape, test_df.shape"
   ]
  },
  {
   "cell_type": "code",
   "execution_count": 70,
   "id": "c5564ad7-55f7-41ea-9b43-6f8235337605",
   "metadata": {},
   "outputs": [
    {
     "data": {
      "text/plain": [
       "((19588, 2), (4897, 2))"
      ]
     },
     "execution_count": 70,
     "metadata": {},
     "output_type": "execute_result"
    }
   ],
   "source": [
    "new_train_df, val_df = train_test_split(train_df, stratify=train_df.category_name, test_size=0.20, random_state=1)\n",
    "new_train_df.shape, val_df.shape"
   ]
  },
  {
   "cell_type": "code",
   "execution_count": 71,
   "id": "35655c8b-a0d6-4b1d-b067-99ae1437dea8",
   "metadata": {},
   "outputs": [
    {
     "data": {
      "text/html": [
       "<div>\n",
       "<style scoped>\n",
       "    .dataframe tbody tr th:only-of-type {\n",
       "        vertical-align: middle;\n",
       "    }\n",
       "\n",
       "    .dataframe tbody tr th {\n",
       "        vertical-align: top;\n",
       "    }\n",
       "\n",
       "    .dataframe thead th {\n",
       "        text-align: right;\n",
       "    }\n",
       "</style>\n",
       "<table border=\"1\" class=\"dataframe\">\n",
       "  <thead>\n",
       "    <tr style=\"text-align: right;\">\n",
       "      <th></th>\n",
       "      <th>category_name</th>\n",
       "      <th>file_path</th>\n",
       "    </tr>\n",
       "  </thead>\n",
       "  <tbody>\n",
       "    <tr>\n",
       "      <th>8292</th>\n",
       "      <td>077.french-horn</td>\n",
       "      <td>256_ObjectCategories/077.french-horn/077_0020.jpg</td>\n",
       "    </tr>\n",
       "    <tr>\n",
       "      <th>30526</th>\n",
       "      <td>257.clutter</td>\n",
       "      <td>256_ObjectCategories/257.clutter/257_0747.jpg</td>\n",
       "    </tr>\n",
       "    <tr>\n",
       "      <th>313</th>\n",
       "      <td>003.backpack</td>\n",
       "      <td>256_ObjectCategories/003.backpack/003_0119.jpg</td>\n",
       "    </tr>\n",
       "    <tr>\n",
       "      <th>13298</th>\n",
       "      <td>121.kangaroo-101</td>\n",
       "      <td>256_ObjectCategories/121.kangaroo-101/121_0073...</td>\n",
       "    </tr>\n",
       "    <tr>\n",
       "      <th>14940</th>\n",
       "      <td>134.llama-101</td>\n",
       "      <td>256_ObjectCategories/134.llama-101/134_0053.jpg</td>\n",
       "    </tr>\n",
       "  </tbody>\n",
       "</table>\n",
       "</div>"
      ],
      "text/plain": [
       "          category_name                                          file_path\n",
       "8292    077.french-horn  256_ObjectCategories/077.french-horn/077_0020.jpg\n",
       "30526       257.clutter      256_ObjectCategories/257.clutter/257_0747.jpg\n",
       "313        003.backpack     256_ObjectCategories/003.backpack/003_0119.jpg\n",
       "13298  121.kangaroo-101  256_ObjectCategories/121.kangaroo-101/121_0073...\n",
       "14940     134.llama-101    256_ObjectCategories/134.llama-101/134_0053.jpg"
      ]
     },
     "execution_count": 71,
     "metadata": {},
     "output_type": "execute_result"
    }
   ],
   "source": [
    "new_train_df.head()"
   ]
  },
  {
   "cell_type": "code",
   "execution_count": 72,
   "id": "8cb2bf2d-77a9-4f02-b8bf-38ebeacb00f5",
   "metadata": {},
   "outputs": [
    {
     "data": {
      "text/html": [
       "<div>\n",
       "<style scoped>\n",
       "    .dataframe tbody tr th:only-of-type {\n",
       "        vertical-align: middle;\n",
       "    }\n",
       "\n",
       "    .dataframe tbody tr th {\n",
       "        vertical-align: top;\n",
       "    }\n",
       "\n",
       "    .dataframe thead th {\n",
       "        text-align: right;\n",
       "    }\n",
       "</style>\n",
       "<table border=\"1\" class=\"dataframe\">\n",
       "  <thead>\n",
       "    <tr style=\"text-align: right;\">\n",
       "      <th></th>\n",
       "      <th>category_name</th>\n",
       "      <th>file_path</th>\n",
       "    </tr>\n",
       "  </thead>\n",
       "  <tbody>\n",
       "    <tr>\n",
       "      <th>21836</th>\n",
       "      <td>192.snowmobile</td>\n",
       "      <td>256_ObjectCategories/192.snowmobile/192_0016.jpg</td>\n",
       "    </tr>\n",
       "    <tr>\n",
       "      <th>18862</th>\n",
       "      <td>161.photocopier</td>\n",
       "      <td>256_ObjectCategories/161.photocopier/161_0082.jpg</td>\n",
       "    </tr>\n",
       "    <tr>\n",
       "      <th>9976</th>\n",
       "      <td>092.grapes</td>\n",
       "      <td>256_ObjectCategories/092.grapes/092_0152.jpg</td>\n",
       "    </tr>\n",
       "    <tr>\n",
       "      <th>26920</th>\n",
       "      <td>239.washing-machine</td>\n",
       "      <td>256_ObjectCategories/239.washing-machine/239_0...</td>\n",
       "    </tr>\n",
       "    <tr>\n",
       "      <th>21585</th>\n",
       "      <td>189.snail</td>\n",
       "      <td>256_ObjectCategories/189.snail/189_0107.jpg</td>\n",
       "    </tr>\n",
       "  </tbody>\n",
       "</table>\n",
       "</div>"
      ],
      "text/plain": [
       "             category_name                                          file_path\n",
       "21836       192.snowmobile   256_ObjectCategories/192.snowmobile/192_0016.jpg\n",
       "18862      161.photocopier  256_ObjectCategories/161.photocopier/161_0082.jpg\n",
       "9976            092.grapes       256_ObjectCategories/092.grapes/092_0152.jpg\n",
       "26920  239.washing-machine  256_ObjectCategories/239.washing-machine/239_0...\n",
       "21585            189.snail        256_ObjectCategories/189.snail/189_0107.jpg"
      ]
     },
     "execution_count": 72,
     "metadata": {},
     "output_type": "execute_result"
    }
   ],
   "source": [
    "val_df.head()"
   ]
  },
  {
   "cell_type": "code",
   "execution_count": 73,
   "id": "733be3b8-8f3b-4c44-a7b8-b18dcee2f3be",
   "metadata": {},
   "outputs": [
    {
     "data": {
      "text/html": [
       "<div>\n",
       "<style scoped>\n",
       "    .dataframe tbody tr th:only-of-type {\n",
       "        vertical-align: middle;\n",
       "    }\n",
       "\n",
       "    .dataframe tbody tr th {\n",
       "        vertical-align: top;\n",
       "    }\n",
       "\n",
       "    .dataframe thead th {\n",
       "        text-align: right;\n",
       "    }\n",
       "</style>\n",
       "<table border=\"1\" class=\"dataframe\">\n",
       "  <thead>\n",
       "    <tr style=\"text-align: right;\">\n",
       "      <th></th>\n",
       "      <th>category_name</th>\n",
       "      <th>file_path</th>\n",
       "    </tr>\n",
       "  </thead>\n",
       "  <tbody>\n",
       "    <tr>\n",
       "      <th>19600</th>\n",
       "      <td>169.radio-telescope</td>\n",
       "      <td>256_ObjectCategories/169.radio-telescope/169_0...</td>\n",
       "    </tr>\n",
       "    <tr>\n",
       "      <th>25539</th>\n",
       "      <td>228.triceratops</td>\n",
       "      <td>256_ObjectCategories/228.triceratops/228_0009.jpg</td>\n",
       "    </tr>\n",
       "    <tr>\n",
       "      <th>11621</th>\n",
       "      <td>105.horse</td>\n",
       "      <td>256_ObjectCategories/105.horse/105_0213.jpg</td>\n",
       "    </tr>\n",
       "    <tr>\n",
       "      <th>23553</th>\n",
       "      <td>208.swiss-army-knife</td>\n",
       "      <td>256_ObjectCategories/208.swiss-army-knife/208_...</td>\n",
       "    </tr>\n",
       "    <tr>\n",
       "      <th>16921</th>\n",
       "      <td>145.motorbikes-101</td>\n",
       "      <td>256_ObjectCategories/145.motorbikes-101/145_07...</td>\n",
       "    </tr>\n",
       "  </tbody>\n",
       "</table>\n",
       "</div>"
      ],
      "text/plain": [
       "              category_name                                          file_path\n",
       "19600   169.radio-telescope  256_ObjectCategories/169.radio-telescope/169_0...\n",
       "25539       228.triceratops  256_ObjectCategories/228.triceratops/228_0009.jpg\n",
       "11621             105.horse        256_ObjectCategories/105.horse/105_0213.jpg\n",
       "23553  208.swiss-army-knife  256_ObjectCategories/208.swiss-army-knife/208_...\n",
       "16921    145.motorbikes-101  256_ObjectCategories/145.motorbikes-101/145_07..."
      ]
     },
     "execution_count": 73,
     "metadata": {},
     "output_type": "execute_result"
    }
   ],
   "source": [
    "test_df.head()"
   ]
  },
  {
   "cell_type": "code",
   "execution_count": 75,
   "id": "d9bb6f5f-f531-477f-a1ab-f8165fb7a307",
   "metadata": {},
   "outputs": [],
   "source": [
    "new_train_df.to_csv(\"dataset/train.csv\")\n",
    "val_df.to_csv(\"dataset/val.csv\")\n",
    "test_df.to_csv(\"dataset/test.csv\")"
   ]
  },
  {
   "cell_type": "code",
   "execution_count": 76,
   "id": "47e91940-c1c9-42a1-b49d-35561928c4d1",
   "metadata": {},
   "outputs": [],
   "source": [
    "# Load And verify"
   ]
  },
  {
   "cell_type": "code",
   "execution_count": 77,
   "id": "6a285ae1-0132-4a4c-b04e-0ef792496ab4",
   "metadata": {},
   "outputs": [
    {
     "data": {
      "text/plain": [
       "(19588, 3)"
      ]
     },
     "execution_count": 77,
     "metadata": {},
     "output_type": "execute_result"
    }
   ],
   "source": [
    "load_train_df = pd.read_csv(\"dataset/train.csv\")\n",
    "load_train_df.shape"
   ]
  },
  {
   "cell_type": "code",
   "execution_count": 78,
   "id": "f83ef85b-3f54-4fb4-bc96-cb07c8d3c998",
   "metadata": {},
   "outputs": [
    {
     "data": {
      "text/plain": [
       "(4897, 3)"
      ]
     },
     "execution_count": 78,
     "metadata": {},
     "output_type": "execute_result"
    }
   ],
   "source": [
    "load_val_df = pd.read_csv(\"dataset/val.csv\")\n",
    "load_val_df.shape"
   ]
  },
  {
   "cell_type": "code",
   "execution_count": 79,
   "id": "9dcaba35-feb2-4529-aa0a-f3008346426e",
   "metadata": {},
   "outputs": [
    {
     "data": {
      "text/plain": [
       "(6122, 3)"
      ]
     },
     "execution_count": 79,
     "metadata": {},
     "output_type": "execute_result"
    }
   ],
   "source": [
    "load_test_df = pd.read_csv(\"dataset/test.csv\")\n",
    "load_test_df.shape"
   ]
  },
  {
   "cell_type": "code",
   "execution_count": null,
   "id": "eccd19ea-9229-4f02-9a10-e46f8987db8a",
   "metadata": {},
   "outputs": [],
   "source": []
  }
 ],
 "metadata": {
  "kernelspec": {
   "display_name": "Python 3 (ipykernel) (Local)",
   "language": "python",
   "name": "local-python3"
  },
  "language_info": {
   "codemirror_mode": {
    "name": "ipython",
    "version": 3
   },
   "file_extension": ".py",
   "mimetype": "text/x-python",
   "name": "python",
   "nbconvert_exporter": "python",
   "pygments_lexer": "ipython3",
   "version": "3.7.12"
  }
 },
 "nbformat": 4,
 "nbformat_minor": 5
}
